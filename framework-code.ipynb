{
 "cells": [
  {
   "cell_type": "markdown",
   "metadata": {},
   "source": [
    "## Notes"
   ]
  },
  {
   "cell_type": "markdown",
   "metadata": {},
   "source": [
    "## Steps\n",
    "1. Ontology Parsing \n",
    "- support for rdf and owl\n",
    "2. Lexical Equivalence Matching (optional - skip for now)\n",
    "3. Matching (parallel)\n",
    "    - String Matching\n",
    "    - Embeddings Matching\n",
    "4. Combining & Filtering"
   ]
  },
  {
   "cell_type": "code",
   "execution_count": 11,
   "metadata": {},
   "outputs": [],
   "source": [
    "# imports\n",
    "import os\n",
    "from owlready2 import *"
   ]
  },
  {
   "cell_type": "code",
   "execution_count": 12,
   "metadata": {},
   "outputs": [
    {
     "name": "stdout",
     "output_type": "stream",
     "text": [
      "Current Directory: /Users/tildietrich/Library/CloudStorage/OneDrive-Personal/ulisboa/2-semester/knowledge-graphs/kg-ontology-alignment-framework\n"
     ]
    }
   ],
   "source": [
    "print(\"Current Directory:\", os.getcwd())\n",
    "onto_path.append('/Users/tildietrich/Library/CloudStorage/OneDrive-Personal/ulisboa/2-semester/knowledge-graphs/kg-ontology-alignment-framework')"
   ]
  },
  {
   "cell_type": "code",
   "execution_count": 13,
   "metadata": {},
   "outputs": [],
   "source": [
    "onto1_path = \"test-ontologies/mouse.owl\"\n",
    "onto2_path = \"test-ontologies/human.owl\""
   ]
  },
  {
   "cell_type": "code",
   "execution_count": 16,
   "metadata": {},
   "outputs": [
    {
     "name": "stdout",
     "output_type": "stream",
     "text": [
      "get_ontology(\"http://mouse.owl#\") get_ontology(\"http://human.owl#\")\n"
     ]
    }
   ],
   "source": [
    "# load ontologies\n",
    "onto1 = get_ontology(onto1_path).load()\n",
    "onto2 = get_ontology(onto2_path).load()\n",
    "print(onto1, onto2)"
   ]
  },
  {
   "cell_type": "code",
   "execution_count": null,
   "metadata": {},
   "outputs": [],
   "source": []
  }
 ],
 "metadata": {
  "kernelspec": {
   "display_name": "kg_ontology_matching_3.12.0",
   "language": "python",
   "name": "python3"
  },
  "language_info": {
   "codemirror_mode": {
    "name": "ipython",
    "version": 3
   },
   "file_extension": ".py",
   "mimetype": "text/x-python",
   "name": "python",
   "nbconvert_exporter": "python",
   "pygments_lexer": "ipython3",
   "version": "3.12.0"
  }
 },
 "nbformat": 4,
 "nbformat_minor": 2
}
