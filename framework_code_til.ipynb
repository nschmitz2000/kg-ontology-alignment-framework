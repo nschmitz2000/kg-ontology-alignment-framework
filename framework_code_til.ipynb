{
 "cells": [
  {
   "cell_type": "markdown",
   "metadata": {},
   "source": [
    "## Notes\n",
    "\n",
    "- [This paper](https://arxiv.org/pdf/2309.07172) suggests that Flan-T5-XXL might perform best: [Hugging face link to model](https://huggingface.co/google/flan-t5-xxl)"
   ]
  },
  {
   "cell_type": "markdown",
   "metadata": {},
   "source": [
    "## Steps\n",
    "1. Ontology Parsing \n",
    "- support for rdf and owl\n",
    "- save into \"standardized\" json file with the relevant information that we want\n",
    "2. Lexical Equivalence Matching (optional - skip for now)\n",
    "3. Matching (parallel)\n",
    "    - String Matching\n",
    "    - Embeddings Matching\n",
    "4. Combining & Filtering\n",
    "- output of this will be a .rdf with the alignment"
   ]
  },
  {
   "cell_type": "code",
   "execution_count": 13,
   "metadata": {},
   "outputs": [],
   "source": [
    "# imports\n",
    "import json\n",
    "from owlready2 import *"
   ]
  },
  {
   "cell_type": "code",
   "execution_count": 14,
   "metadata": {},
   "outputs": [],
   "source": [
    "# input paths\n",
    "onto1_path_in = \"test_ontologies/mouse.owl\"\n",
    "onto2_path_in = \"test_ontologies/human.owl\"\n",
    "\n",
    "# output paths\n",
    "onto1_path_out = \"ontology_jsons/onto1.json\"\n",
    "onto2_path_out = \"ontology_jsons/onto2.json\""
   ]
  },
  {
   "cell_type": "code",
   "execution_count": 15,
   "metadata": {},
   "outputs": [
    {
     "name": "stdout",
     "output_type": "stream",
     "text": [
      "get_ontology(\"http://mouse.owl#\") get_ontology(\"http://human.owl#\")\n"
     ]
    }
   ],
   "source": [
    "# load ontologies\n",
    "onto1 = get_ontology(onto1_path).load()\n",
    "onto2 = get_ontology(onto2_path).load()\n",
    "print(onto1, onto2)"
   ]
  },
  {
   "cell_type": "code",
   "execution_count": 16,
   "metadata": {},
   "outputs": [],
   "source": [
    "# Extract classes and object properties\n",
    "classes1 = list(onto1.classes())\n",
    "properties1 = list(onto1.object_properties())\n",
    "annotations1 = list(onto1.annotation_properties())\n",
    "\n",
    "classes2 = list(onto2.classes())\n",
    "properties2 = list(onto2.object_properties())\n",
    "annotations2 = list(onto2.annotation_properties())\n"
   ]
  },
  {
   "cell_type": "code",
   "execution_count": 17,
   "metadata": {},
   "outputs": [
    {
     "name": "stdout",
     "output_type": "stream",
     "text": [
      "[owl.Thing, mouse.MA_0000001, mouse.MA_0000002, mouse.MA_0001112, mouse.MA_0000216, mouse.MA_0000003, mouse.MA_0002405, mouse.MA_0000004, mouse.MA_0002433, mouse.MA_0000005]\n",
      "[rdf-schema.label, oboInOwl.hasRelatedSynonym, oboInOwl.hasDbXref, oboInOwl.hasDefaultNamespace, oboInOwl.hasAlternativeId, oboInOwl.savedBy, oboInOwl.hasDate]\n"
     ]
    }
   ],
   "source": [
    "print(classes1[:10])\n",
    "print(annotations1[:10])"
   ]
  },
  {
   "cell_type": "code",
   "execution_count": 18,
   "metadata": {},
   "outputs": [
    {
     "name": "stdout",
     "output_type": "stream",
     "text": [
      "[oboInOwl.DbXref, oboInOwl.Definition, oboInOwl.ObsoleteClass, oboInOwl.Subset, oboInOwl.Synonym, oboInOwl.SynonymType, human.NCI_C12219, human.NCI_C12220, human.NCI_C38617, human.NCI_C12419]\n",
      "[rdf-schema.label, oboInOwl.hasRelatedSynonym, oboInOwl.hasDefaultNamespace, oboInOwl.savedBy, oboInOwl.hasDate, oboInOwl.hasDefinition]\n"
     ]
    }
   ],
   "source": [
    "print(classes2[:10])\n",
    "print(annotations2[:10])"
   ]
  },
  {
   "cell_type": "code",
   "execution_count": 19,
   "metadata": {},
   "outputs": [
    {
     "name": "stdout",
     "output_type": "stream",
     "text": [
      "Class: owl.Thing\n",
      "Superclasses: []\n",
      "Annotations: []\n",
      "Class: mouse.MA_0000001\n",
      "Superclasses: [owl.Thing]\n",
      "Annotations: ['mouse anatomy']\n",
      "Class: mouse.MA_0000002\n",
      "Superclasses: [mouse.MA_0001112, mouse.UNDEFINED_part_of.some(mouse.MA_0000216)]\n",
      "Annotations: ['spinal cord grey matter']\n",
      "Class: mouse.MA_0001112\n",
      "Superclasses: [owl.Thing, mouse.UNDEFINED_part_of.some(mouse.MA_0000167)]\n",
      "Annotations: ['grey matter']\n",
      "Class: mouse.MA_0000216\n",
      "Superclasses: [mouse.MA_0001901, mouse.UNDEFINED_part_of.some(mouse.MA_0000167)]\n",
      "Annotations: ['spinal cord']\n",
      "Class: mouse.MA_0000003\n",
      "Superclasses: [owl.Thing, mouse.UNDEFINED_part_of.some(mouse.MA_0002405)]\n",
      "Annotations: ['organ system']\n",
      "Class: mouse.MA_0002405\n",
      "Superclasses: [owl.Thing, mouse.UNDEFINED_part_of.some(mouse.MA_0000001)]\n",
      "Annotations: ['adult mouse']\n",
      "Class: mouse.MA_0000004\n",
      "Superclasses: [mouse.MA_0002433]\n",
      "Annotations: ['trunk']\n",
      "Class: mouse.MA_0002433\n",
      "Superclasses: [owl.Thing, mouse.UNDEFINED_part_of.some(mouse.MA_0002405)]\n",
      "Annotations: ['anatomic region']\n",
      "Class: mouse.MA_0000005\n",
      "Superclasses: [mouse.MA_0002433]\n",
      "Annotations: ['body cavity/lining']\n"
     ]
    }
   ],
   "source": [
    "# Extracting classes and their attributes for ontology 1\n",
    "count = 0\n",
    "for cls in onto1.classes():\n",
    "    count += 1\n",
    "    print(\"Class:\", cls)\n",
    "    print(\"Superclasses:\", list(cls.is_a))\n",
    "    print(\"Annotations:\", list(cls.label))\n",
    "    if count == 10:\n",
    "        break"
   ]
  },
  {
   "cell_type": "code",
   "execution_count": 20,
   "metadata": {},
   "outputs": [
    {
     "name": "stdout",
     "output_type": "stream",
     "text": [
      "Data has been saved to 'ontology_jsons/onto1.json'.\n"
     ]
    }
   ],
   "source": [
    "# extract information from onto into json\n",
    "classes_info = []\n",
    "for cls in onto1.classes():\n",
    "    class_details = {\n",
    "        \"id\": cls.iri,\n",
    "        \"label\": cls.label[0] if cls.label else \"No label\",\n",
    "        \"superclasses\": [supercls.iri for supercls in cls.is_a if hasattr(supercls, 'iri')],\n",
    "        \"annotations\": {\n",
    "            \"comment\": cls.comment[0] if cls.comment else \"No comment\"\n",
    "        }\n",
    "    }\n",
    "    classes_info.append(class_details)\n",
    "\n",
    "def save_to_json(file_path, data):\n",
    "    with open(file_path, 'w') as f:\n",
    "        json.dump(data, f, indent=4)\n",
    "    print(f\"Data has been saved to '{file_path}'.\")\n",
    "\n",
    "save_to_json(onto1_path_out, classes_info)"
   ]
  },
  {
   "cell_type": "markdown",
   "metadata": {},
   "source": [
    "Output format example:\n",
    "```\n",
    "<?xml version=\"1.0\" encoding=\"utf-8\"?>\n",
    "<rdf:RDF xmlns=\"http://knowledgeweb.semanticweb.org/heterogeneity/alignment\" \n",
    "\t xmlns:rdf=\"http://www.w3.org/1999/02/22-rdf-syntax-ns#\" \n",
    "\t xmlns:xsd=\"http://www.w3.org/2001/XMLSchema#\">\n",
    "\n",
    "<Alignment>\n",
    "<xml>yes</xml>\n",
    "<level>0</level>\n",
    "<type>??</type>\n",
    "\n",
    "<map>\n",
    "\t<Cell>\n",
    "\t\t<entity1 rdf:resource=\"http://mouse.owl#MA_0002401\"/>\n",
    "\t\t<entity2 rdf:resource=\"http://human.owl#NCI_C52561\"/>\n",
    "\t\t<measure rdf:datatype=\"xsd:float\">1.0</measure>\n",
    "\t\t<relation>=</relation>\n",
    "\t</Cell>\n",
    "</map>\n",
    "```"
   ]
  },
  {
   "cell_type": "markdown",
   "metadata": {},
   "source": []
  }
 ],
 "metadata": {
  "kernelspec": {
   "display_name": "kg_ontology_matching_3.12.0",
   "language": "python",
   "name": "python3"
  },
  "language_info": {
   "codemirror_mode": {
    "name": "ipython",
    "version": 3
   },
   "file_extension": ".py",
   "mimetype": "text/x-python",
   "name": "python",
   "nbconvert_exporter": "python",
   "pygments_lexer": "ipython3",
   "version": "3.12.0"
  }
 },
 "nbformat": 4,
 "nbformat_minor": 2
}
